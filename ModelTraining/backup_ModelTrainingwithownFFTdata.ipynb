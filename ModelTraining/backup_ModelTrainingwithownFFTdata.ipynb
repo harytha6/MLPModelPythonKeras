{
 "cells": [
  {
   "cell_type": "code",
   "execution_count": 1,
   "id": "54c0ee66",
   "metadata": {},
   "outputs": [],
   "source": [
    "import pandas as pd\n",
    "import numpy as np\n",
    "import os\n",
    "import matplotlib.pyplot as plt\n",
    "from statsmodels.graphics.tsaplots import plot_acf\n",
    "from statsmodels.tsa.stattools import acf\n",
    "#import tensorflow as tf\n",
    "from sklearn.model_selection import train_test_split\n",
    "from sklearn.ensemble import RandomForestRegressor, ExtraTreesRegressor\n",
    "#Components used for signal - ACF,PSD\n",
    "import scipy.signal"
   ]
  },
  {
   "cell_type": "code",
   "execution_count": 3,
   "id": "ba0b6934",
   "metadata": {},
   "outputs": [
    {
     "name": "stdout",
     "output_type": "stream",
     "text": [
      "Adding the following files : \n",
      "Part1.2.csv\n"
     ]
    },
    {
     "name": "stderr",
     "output_type": "stream",
     "text": [
      "C:\\Users\\Vinoth\\AppData\\Local\\Temp\\ipykernel_2232\\484658867.py:12: FutureWarning: The frame.append method is deprecated and will be removed from pandas in a future version. Use pandas.concat instead.\n",
      "  empty  = empty.append(df1)\n"
     ]
    },
    {
     "name": "stdout",
     "output_type": "stream",
     "text": [
      "Part1.csv\n"
     ]
    },
    {
     "name": "stderr",
     "output_type": "stream",
     "text": [
      "C:\\Users\\Vinoth\\AppData\\Local\\Temp\\ipykernel_2232\\484658867.py:12: FutureWarning: The frame.append method is deprecated and will be removed from pandas in a future version. Use pandas.concat instead.\n",
      "  empty  = empty.append(df1)\n"
     ]
    },
    {
     "name": "stdout",
     "output_type": "stream",
     "text": [
      "Part2.csv\n"
     ]
    },
    {
     "name": "stderr",
     "output_type": "stream",
     "text": [
      "C:\\Users\\Vinoth\\AppData\\Local\\Temp\\ipykernel_2232\\484658867.py:12: FutureWarning: The frame.append method is deprecated and will be removed from pandas in a future version. Use pandas.concat instead.\n",
      "  empty  = empty.append(df1)\n"
     ]
    },
    {
     "name": "stdout",
     "output_type": "stream",
     "text": [
      "Part3.2.csv\n"
     ]
    },
    {
     "name": "stderr",
     "output_type": "stream",
     "text": [
      "C:\\Users\\Vinoth\\AppData\\Local\\Temp\\ipykernel_2232\\484658867.py:12: FutureWarning: The frame.append method is deprecated and will be removed from pandas in a future version. Use pandas.concat instead.\n",
      "  empty  = empty.append(df1)\n"
     ]
    },
    {
     "name": "stdout",
     "output_type": "stream",
     "text": [
      "Part3.csv\n"
     ]
    },
    {
     "name": "stderr",
     "output_type": "stream",
     "text": [
      "C:\\Users\\Vinoth\\AppData\\Local\\Temp\\ipykernel_2232\\484658867.py:12: FutureWarning: The frame.append method is deprecated and will be removed from pandas in a future version. Use pandas.concat instead.\n",
      "  empty  = empty.append(df1)\n"
     ]
    },
    {
     "name": "stdout",
     "output_type": "stream",
     "text": [
      "Part4.csv\n"
     ]
    },
    {
     "name": "stderr",
     "output_type": "stream",
     "text": [
      "C:\\Users\\Vinoth\\AppData\\Local\\Temp\\ipykernel_2232\\484658867.py:12: FutureWarning: The frame.append method is deprecated and will be removed from pandas in a future version. Use pandas.concat instead.\n",
      "  empty  = empty.append(df1)\n"
     ]
    },
    {
     "data": {
      "text/html": [
       "<div>\n",
       "<style scoped>\n",
       "    .dataframe tbody tr th:only-of-type {\n",
       "        vertical-align: middle;\n",
       "    }\n",
       "\n",
       "    .dataframe tbody tr th {\n",
       "        vertical-align: top;\n",
       "    }\n",
       "\n",
       "    .dataframe thead th {\n",
       "        text-align: right;\n",
       "    }\n",
       "</style>\n",
       "<table border=\"1\" class=\"dataframe\">\n",
       "  <thead>\n",
       "    <tr style=\"text-align: right;\">\n",
       "      <th></th>\n",
       "      <th>600</th>\n",
       "      <th>601</th>\n",
       "      <th>602</th>\n",
       "      <th>603</th>\n",
       "      <th>604</th>\n",
       "      <th>605</th>\n",
       "      <th>606</th>\n",
       "      <th>607</th>\n",
       "      <th>608</th>\n",
       "      <th>609</th>\n",
       "      <th>...</th>\n",
       "      <th>791</th>\n",
       "      <th>792</th>\n",
       "      <th>793</th>\n",
       "      <th>794</th>\n",
       "      <th>795</th>\n",
       "      <th>796</th>\n",
       "      <th>797</th>\n",
       "      <th>798</th>\n",
       "      <th>799</th>\n",
       "      <th>Label</th>\n",
       "    </tr>\n",
       "  </thead>\n",
       "  <tbody>\n",
       "    <tr>\n",
       "      <th>0</th>\n",
       "      <td>6.068504e-07</td>\n",
       "      <td>6.852269e-07</td>\n",
       "      <td>9.041068e-07</td>\n",
       "      <td>7.069943e-07</td>\n",
       "      <td>8.895218e-07</td>\n",
       "      <td>9.664558e-07</td>\n",
       "      <td>0.000001</td>\n",
       "      <td>0.000002</td>\n",
       "      <td>0.000003</td>\n",
       "      <td>0.000003</td>\n",
       "      <td>...</td>\n",
       "      <td>0.000035</td>\n",
       "      <td>0.000040</td>\n",
       "      <td>0.000028</td>\n",
       "      <td>0.000024</td>\n",
       "      <td>0.000034</td>\n",
       "      <td>0.000041</td>\n",
       "      <td>0.000034</td>\n",
       "      <td>0.000026</td>\n",
       "      <td>0.000041</td>\n",
       "      <td>0</td>\n",
       "    </tr>\n",
       "    <tr>\n",
       "      <th>1</th>\n",
       "      <td>1.669686e-06</td>\n",
       "      <td>1.978055e-06</td>\n",
       "      <td>1.869322e-06</td>\n",
       "      <td>2.681205e-06</td>\n",
       "      <td>2.700845e-06</td>\n",
       "      <td>2.393160e-06</td>\n",
       "      <td>0.000003</td>\n",
       "      <td>0.000003</td>\n",
       "      <td>0.000003</td>\n",
       "      <td>0.000003</td>\n",
       "      <td>...</td>\n",
       "      <td>0.000033</td>\n",
       "      <td>0.000044</td>\n",
       "      <td>0.000035</td>\n",
       "      <td>0.000025</td>\n",
       "      <td>0.000037</td>\n",
       "      <td>0.000047</td>\n",
       "      <td>0.000038</td>\n",
       "      <td>0.000028</td>\n",
       "      <td>0.000044</td>\n",
       "      <td>0</td>\n",
       "    </tr>\n",
       "    <tr>\n",
       "      <th>2</th>\n",
       "      <td>3.730199e-06</td>\n",
       "      <td>5.088352e-06</td>\n",
       "      <td>2.764420e-06</td>\n",
       "      <td>1.791014e-06</td>\n",
       "      <td>3.944355e-06</td>\n",
       "      <td>4.744577e-06</td>\n",
       "      <td>0.000003</td>\n",
       "      <td>0.000003</td>\n",
       "      <td>0.000005</td>\n",
       "      <td>0.000004</td>\n",
       "      <td>...</td>\n",
       "      <td>0.000031</td>\n",
       "      <td>0.000039</td>\n",
       "      <td>0.000039</td>\n",
       "      <td>0.000029</td>\n",
       "      <td>0.000033</td>\n",
       "      <td>0.000052</td>\n",
       "      <td>0.000047</td>\n",
       "      <td>0.000029</td>\n",
       "      <td>0.000048</td>\n",
       "      <td>0</td>\n",
       "    </tr>\n",
       "    <tr>\n",
       "      <th>3</th>\n",
       "      <td>2.410132e-06</td>\n",
       "      <td>1.558534e-06</td>\n",
       "      <td>3.560159e-06</td>\n",
       "      <td>5.279946e-06</td>\n",
       "      <td>3.557908e-06</td>\n",
       "      <td>2.598881e-06</td>\n",
       "      <td>0.000005</td>\n",
       "      <td>0.000006</td>\n",
       "      <td>0.000004</td>\n",
       "      <td>0.000003</td>\n",
       "      <td>...</td>\n",
       "      <td>0.000036</td>\n",
       "      <td>0.000053</td>\n",
       "      <td>0.000038</td>\n",
       "      <td>0.000023</td>\n",
       "      <td>0.000038</td>\n",
       "      <td>0.000054</td>\n",
       "      <td>0.000040</td>\n",
       "      <td>0.000026</td>\n",
       "      <td>0.000046</td>\n",
       "      <td>0</td>\n",
       "    </tr>\n",
       "    <tr>\n",
       "      <th>4</th>\n",
       "      <td>2.274934e-06</td>\n",
       "      <td>2.255291e-06</td>\n",
       "      <td>1.720882e-06</td>\n",
       "      <td>1.749662e-06</td>\n",
       "      <td>1.420492e-06</td>\n",
       "      <td>1.806817e-06</td>\n",
       "      <td>0.000002</td>\n",
       "      <td>0.000002</td>\n",
       "      <td>0.000003</td>\n",
       "      <td>0.000004</td>\n",
       "      <td>...</td>\n",
       "      <td>0.000050</td>\n",
       "      <td>0.000044</td>\n",
       "      <td>0.000024</td>\n",
       "      <td>0.000023</td>\n",
       "      <td>0.000035</td>\n",
       "      <td>0.000035</td>\n",
       "      <td>0.000026</td>\n",
       "      <td>0.000033</td>\n",
       "      <td>0.000060</td>\n",
       "      <td>0</td>\n",
       "    </tr>\n",
       "  </tbody>\n",
       "</table>\n",
       "<p>5 rows × 201 columns</p>\n",
       "</div>"
      ],
      "text/plain": [
       "            600           601           602           603           604  \\\n",
       "0  6.068504e-07  6.852269e-07  9.041068e-07  7.069943e-07  8.895218e-07   \n",
       "1  1.669686e-06  1.978055e-06  1.869322e-06  2.681205e-06  2.700845e-06   \n",
       "2  3.730199e-06  5.088352e-06  2.764420e-06  1.791014e-06  3.944355e-06   \n",
       "3  2.410132e-06  1.558534e-06  3.560159e-06  5.279946e-06  3.557908e-06   \n",
       "4  2.274934e-06  2.255291e-06  1.720882e-06  1.749662e-06  1.420492e-06   \n",
       "\n",
       "            605       606       607       608       609  ...       791  \\\n",
       "0  9.664558e-07  0.000001  0.000002  0.000003  0.000003  ...  0.000035   \n",
       "1  2.393160e-06  0.000003  0.000003  0.000003  0.000003  ...  0.000033   \n",
       "2  4.744577e-06  0.000003  0.000003  0.000005  0.000004  ...  0.000031   \n",
       "3  2.598881e-06  0.000005  0.000006  0.000004  0.000003  ...  0.000036   \n",
       "4  1.806817e-06  0.000002  0.000002  0.000003  0.000004  ...  0.000050   \n",
       "\n",
       "        792       793       794       795       796       797       798  \\\n",
       "0  0.000040  0.000028  0.000024  0.000034  0.000041  0.000034  0.000026   \n",
       "1  0.000044  0.000035  0.000025  0.000037  0.000047  0.000038  0.000028   \n",
       "2  0.000039  0.000039  0.000029  0.000033  0.000052  0.000047  0.000029   \n",
       "3  0.000053  0.000038  0.000023  0.000038  0.000054  0.000040  0.000026   \n",
       "4  0.000044  0.000024  0.000023  0.000035  0.000035  0.000026  0.000033   \n",
       "\n",
       "        799  Label  \n",
       "0  0.000041      0  \n",
       "1  0.000044      0  \n",
       "2  0.000048      0  \n",
       "3  0.000046      0  \n",
       "4  0.000060      0  \n",
       "\n",
       "[5 rows x 201 columns]"
      ]
     },
     "execution_count": 3,
     "metadata": {},
     "output_type": "execute_result"
    }
   ],
   "source": [
    "# Getting current working directory and storing it as a string variable and reading all empty seat readings into one dataframe\n",
    "\n",
    "directory_in_str = \"E:\\\\Haritha\\\\MasterThesis\\\\ModelTraining\\\\aa_measurements\\\\FFTfilegenerationpurpose\\\\fft_train\"\n",
    "Emptyfilelist = []\n",
    "empty = pd.DataFrame()\n",
    "print(\"Adding the following files : \")\n",
    "for file in os.listdir(directory_in_str) :\n",
    "    if file.startswith(\"Part\") :\n",
    "        print(file)\n",
    "        filepathempty = directory_in_str +\"\\\\\" + file\n",
    "        df1 = pd.read_csv(filepathempty, engine = 'python')\n",
    "        empty  = empty.append(df1)\n",
    "    else :\n",
    "        continue  \n",
    "\n",
    "empty.head()"
   ]
  },
  {
   "cell_type": "code",
   "execution_count": 5,
   "id": "068de882",
   "metadata": {},
   "outputs": [
    {
     "name": "stderr",
     "output_type": "stream",
     "text": [
      "C:\\Users\\Vinoth\\AppData\\Local\\Temp\\ipykernel_2232\\3556709548.py:2: FutureWarning: The frame.append method is deprecated and will be removed from pandas in a future version. Use pandas.concat instead.\n",
      "  total2 = total2.append(empty)\n"
     ]
    },
    {
     "data": {
      "text/plain": [
       "(13580, 201)"
      ]
     },
     "execution_count": 5,
     "metadata": {},
     "output_type": "execute_result"
    }
   ],
   "source": [
    "total2 = pd.DataFrame()\n",
    "total2 = total2.append(empty)\n",
    "total2.shape\n"
   ]
  },
  {
   "cell_type": "code",
   "execution_count": 7,
   "id": "205e0114",
   "metadata": {},
   "outputs": [
    {
     "data": {
      "text/plain": [
       "13580"
      ]
     },
     "execution_count": 7,
     "metadata": {},
     "output_type": "execute_result"
    }
   ],
   "source": [
    "lengthvar = len(total2)\n",
    "lengthvar"
   ]
  },
  {
   "cell_type": "code",
   "execution_count": 8,
   "id": "f503c648",
   "metadata": {},
   "outputs": [],
   "source": [
    "train, test = train_test_split(total2, test_size=0.2, random_state=42, shuffle=True)"
   ]
  },
  {
   "cell_type": "code",
   "execution_count": 9,
   "id": "8c084fed",
   "metadata": {},
   "outputs": [
    {
     "data": {
      "text/plain": [
       "(2716, 201)"
      ]
     },
     "execution_count": 9,
     "metadata": {},
     "output_type": "execute_result"
    }
   ],
   "source": [
    "test.shape"
   ]
  },
  {
   "cell_type": "code",
   "execution_count": 10,
   "id": "f8725b53",
   "metadata": {},
   "outputs": [],
   "source": [
    "X_train = train.iloc[:,0:200] \n",
    "#X_train = X_train/1000 - already divided by max\n",
    "y_train = train['Label']\n",
    "\n",
    "X_test = test.iloc[:,0:200] \n",
    "#X_test = X_test/1000 - already divided by max\n",
    "y_test = test['Label']"
   ]
  },
  {
   "cell_type": "code",
   "execution_count": 12,
   "id": "c561426e",
   "metadata": {},
   "outputs": [
    {
     "data": {
      "text/html": [
       "<div>\n",
       "<style scoped>\n",
       "    .dataframe tbody tr th:only-of-type {\n",
       "        vertical-align: middle;\n",
       "    }\n",
       "\n",
       "    .dataframe tbody tr th {\n",
       "        vertical-align: top;\n",
       "    }\n",
       "\n",
       "    .dataframe thead th {\n",
       "        text-align: right;\n",
       "    }\n",
       "</style>\n",
       "<table border=\"1\" class=\"dataframe\">\n",
       "  <thead>\n",
       "    <tr style=\"text-align: right;\">\n",
       "      <th></th>\n",
       "      <th>600</th>\n",
       "      <th>601</th>\n",
       "      <th>602</th>\n",
       "      <th>603</th>\n",
       "      <th>604</th>\n",
       "      <th>605</th>\n",
       "      <th>606</th>\n",
       "      <th>607</th>\n",
       "      <th>608</th>\n",
       "      <th>609</th>\n",
       "      <th>...</th>\n",
       "      <th>790</th>\n",
       "      <th>791</th>\n",
       "      <th>792</th>\n",
       "      <th>793</th>\n",
       "      <th>794</th>\n",
       "      <th>795</th>\n",
       "      <th>796</th>\n",
       "      <th>797</th>\n",
       "      <th>798</th>\n",
       "      <th>799</th>\n",
       "    </tr>\n",
       "  </thead>\n",
       "  <tbody>\n",
       "    <tr>\n",
       "      <th>1416</th>\n",
       "      <td>1.098710e-05</td>\n",
       "      <td>1.707907e-05</td>\n",
       "      <td>2.229720e-05</td>\n",
       "      <td>1.696232e-05</td>\n",
       "      <td>2.352336e-05</td>\n",
       "      <td>2.489441e-05</td>\n",
       "      <td>1.970047e-05</td>\n",
       "      <td>2.604308e-05</td>\n",
       "      <td>3.002448e-05</td>\n",
       "      <td>2.349230e-05</td>\n",
       "      <td>...</td>\n",
       "      <td>0.000010</td>\n",
       "      <td>0.000011</td>\n",
       "      <td>0.000025</td>\n",
       "      <td>0.000026</td>\n",
       "      <td>0.000017</td>\n",
       "      <td>0.000032</td>\n",
       "      <td>0.000044</td>\n",
       "      <td>0.000037</td>\n",
       "      <td>0.000034</td>\n",
       "      <td>0.000038</td>\n",
       "    </tr>\n",
       "    <tr>\n",
       "      <th>662</th>\n",
       "      <td>3.641956e-06</td>\n",
       "      <td>5.170922e-06</td>\n",
       "      <td>5.921516e-06</td>\n",
       "      <td>3.949193e-06</td>\n",
       "      <td>3.819921e-06</td>\n",
       "      <td>6.072452e-06</td>\n",
       "      <td>6.713343e-06</td>\n",
       "      <td>6.205111e-06</td>\n",
       "      <td>4.947522e-06</td>\n",
       "      <td>4.784267e-06</td>\n",
       "      <td>...</td>\n",
       "      <td>0.000051</td>\n",
       "      <td>0.000039</td>\n",
       "      <td>0.000035</td>\n",
       "      <td>0.000039</td>\n",
       "      <td>0.000035</td>\n",
       "      <td>0.000029</td>\n",
       "      <td>0.000031</td>\n",
       "      <td>0.000036</td>\n",
       "      <td>0.000035</td>\n",
       "      <td>0.000028</td>\n",
       "    </tr>\n",
       "    <tr>\n",
       "      <th>407</th>\n",
       "      <td>5.036178e-06</td>\n",
       "      <td>1.619263e-05</td>\n",
       "      <td>1.966626e-05</td>\n",
       "      <td>8.929927e-06</td>\n",
       "      <td>3.859434e-06</td>\n",
       "      <td>1.257105e-05</td>\n",
       "      <td>2.529388e-05</td>\n",
       "      <td>2.369773e-05</td>\n",
       "      <td>9.652858e-06</td>\n",
       "      <td>3.443826e-06</td>\n",
       "      <td>...</td>\n",
       "      <td>0.000069</td>\n",
       "      <td>0.000074</td>\n",
       "      <td>0.000046</td>\n",
       "      <td>0.000022</td>\n",
       "      <td>0.000029</td>\n",
       "      <td>0.000042</td>\n",
       "      <td>0.000026</td>\n",
       "      <td>0.000010</td>\n",
       "      <td>0.000013</td>\n",
       "      <td>0.000027</td>\n",
       "    </tr>\n",
       "    <tr>\n",
       "      <th>1698</th>\n",
       "      <td>6.202150e-07</td>\n",
       "      <td>6.609623e-07</td>\n",
       "      <td>6.530720e-07</td>\n",
       "      <td>7.920582e-07</td>\n",
       "      <td>5.857586e-07</td>\n",
       "      <td>5.725187e-07</td>\n",
       "      <td>6.577190e-07</td>\n",
       "      <td>6.585098e-07</td>\n",
       "      <td>7.467700e-07</td>\n",
       "      <td>7.259939e-07</td>\n",
       "      <td>...</td>\n",
       "      <td>0.000041</td>\n",
       "      <td>0.000038</td>\n",
       "      <td>0.000044</td>\n",
       "      <td>0.000054</td>\n",
       "      <td>0.000052</td>\n",
       "      <td>0.000046</td>\n",
       "      <td>0.000049</td>\n",
       "      <td>0.000059</td>\n",
       "      <td>0.000059</td>\n",
       "      <td>0.000047</td>\n",
       "    </tr>\n",
       "    <tr>\n",
       "      <th>761</th>\n",
       "      <td>2.651108e-05</td>\n",
       "      <td>2.768010e-05</td>\n",
       "      <td>2.550593e-05</td>\n",
       "      <td>2.570799e-05</td>\n",
       "      <td>2.603656e-05</td>\n",
       "      <td>2.556311e-05</td>\n",
       "      <td>2.514980e-05</td>\n",
       "      <td>2.700761e-05</td>\n",
       "      <td>2.467985e-05</td>\n",
       "      <td>2.106626e-05</td>\n",
       "      <td>...</td>\n",
       "      <td>0.000046</td>\n",
       "      <td>0.000047</td>\n",
       "      <td>0.000059</td>\n",
       "      <td>0.000060</td>\n",
       "      <td>0.000049</td>\n",
       "      <td>0.000043</td>\n",
       "      <td>0.000046</td>\n",
       "      <td>0.000065</td>\n",
       "      <td>0.000077</td>\n",
       "      <td>0.000060</td>\n",
       "    </tr>\n",
       "  </tbody>\n",
       "</table>\n",
       "<p>5 rows × 200 columns</p>\n",
       "</div>"
      ],
      "text/plain": [
       "               600           601           602           603           604  \\\n",
       "1416  1.098710e-05  1.707907e-05  2.229720e-05  1.696232e-05  2.352336e-05   \n",
       "662   3.641956e-06  5.170922e-06  5.921516e-06  3.949193e-06  3.819921e-06   \n",
       "407   5.036178e-06  1.619263e-05  1.966626e-05  8.929927e-06  3.859434e-06   \n",
       "1698  6.202150e-07  6.609623e-07  6.530720e-07  7.920582e-07  5.857586e-07   \n",
       "761   2.651108e-05  2.768010e-05  2.550593e-05  2.570799e-05  2.603656e-05   \n",
       "\n",
       "               605           606           607           608           609  \\\n",
       "1416  2.489441e-05  1.970047e-05  2.604308e-05  3.002448e-05  2.349230e-05   \n",
       "662   6.072452e-06  6.713343e-06  6.205111e-06  4.947522e-06  4.784267e-06   \n",
       "407   1.257105e-05  2.529388e-05  2.369773e-05  9.652858e-06  3.443826e-06   \n",
       "1698  5.725187e-07  6.577190e-07  6.585098e-07  7.467700e-07  7.259939e-07   \n",
       "761   2.556311e-05  2.514980e-05  2.700761e-05  2.467985e-05  2.106626e-05   \n",
       "\n",
       "      ...       790       791       792       793       794       795  \\\n",
       "1416  ...  0.000010  0.000011  0.000025  0.000026  0.000017  0.000032   \n",
       "662   ...  0.000051  0.000039  0.000035  0.000039  0.000035  0.000029   \n",
       "407   ...  0.000069  0.000074  0.000046  0.000022  0.000029  0.000042   \n",
       "1698  ...  0.000041  0.000038  0.000044  0.000054  0.000052  0.000046   \n",
       "761   ...  0.000046  0.000047  0.000059  0.000060  0.000049  0.000043   \n",
       "\n",
       "           796       797       798       799  \n",
       "1416  0.000044  0.000037  0.000034  0.000038  \n",
       "662   0.000031  0.000036  0.000035  0.000028  \n",
       "407   0.000026  0.000010  0.000013  0.000027  \n",
       "1698  0.000049  0.000059  0.000059  0.000047  \n",
       "761   0.000046  0.000065  0.000077  0.000060  \n",
       "\n",
       "[5 rows x 200 columns]"
      ]
     },
     "execution_count": 12,
     "metadata": {},
     "output_type": "execute_result"
    }
   ],
   "source": [
    "X_train.head()"
   ]
  },
  {
   "cell_type": "code",
   "execution_count": 13,
   "id": "9c61cd18",
   "metadata": {},
   "outputs": [
    {
     "data": {
      "text/plain": [
       "1416    1\n",
       "662     0\n",
       "407     1\n",
       "1698    1\n",
       "761     1\n",
       "Name: Label, dtype: int64"
      ]
     },
     "execution_count": 13,
     "metadata": {},
     "output_type": "execute_result"
    }
   ],
   "source": [
    "y_train.head()"
   ]
  },
  {
   "cell_type": "code",
   "execution_count": 14,
   "id": "c105715d",
   "metadata": {},
   "outputs": [
    {
     "data": {
      "text/html": [
       "<style>#sk-container-id-1 {color: black;background-color: white;}#sk-container-id-1 pre{padding: 0;}#sk-container-id-1 div.sk-toggleable {background-color: white;}#sk-container-id-1 label.sk-toggleable__label {cursor: pointer;display: block;width: 100%;margin-bottom: 0;padding: 0.3em;box-sizing: border-box;text-align: center;}#sk-container-id-1 label.sk-toggleable__label-arrow:before {content: \"▸\";float: left;margin-right: 0.25em;color: #696969;}#sk-container-id-1 label.sk-toggleable__label-arrow:hover:before {color: black;}#sk-container-id-1 div.sk-estimator:hover label.sk-toggleable__label-arrow:before {color: black;}#sk-container-id-1 div.sk-toggleable__content {max-height: 0;max-width: 0;overflow: hidden;text-align: left;background-color: #f0f8ff;}#sk-container-id-1 div.sk-toggleable__content pre {margin: 0.2em;color: black;border-radius: 0.25em;background-color: #f0f8ff;}#sk-container-id-1 input.sk-toggleable__control:checked~div.sk-toggleable__content {max-height: 200px;max-width: 100%;overflow: auto;}#sk-container-id-1 input.sk-toggleable__control:checked~label.sk-toggleable__label-arrow:before {content: \"▾\";}#sk-container-id-1 div.sk-estimator input.sk-toggleable__control:checked~label.sk-toggleable__label {background-color: #d4ebff;}#sk-container-id-1 div.sk-label input.sk-toggleable__control:checked~label.sk-toggleable__label {background-color: #d4ebff;}#sk-container-id-1 input.sk-hidden--visually {border: 0;clip: rect(1px 1px 1px 1px);clip: rect(1px, 1px, 1px, 1px);height: 1px;margin: -1px;overflow: hidden;padding: 0;position: absolute;width: 1px;}#sk-container-id-1 div.sk-estimator {font-family: monospace;background-color: #f0f8ff;border: 1px dotted black;border-radius: 0.25em;box-sizing: border-box;margin-bottom: 0.5em;}#sk-container-id-1 div.sk-estimator:hover {background-color: #d4ebff;}#sk-container-id-1 div.sk-parallel-item::after {content: \"\";width: 100%;border-bottom: 1px solid gray;flex-grow: 1;}#sk-container-id-1 div.sk-label:hover label.sk-toggleable__label {background-color: #d4ebff;}#sk-container-id-1 div.sk-serial::before {content: \"\";position: absolute;border-left: 1px solid gray;box-sizing: border-box;top: 0;bottom: 0;left: 50%;z-index: 0;}#sk-container-id-1 div.sk-serial {display: flex;flex-direction: column;align-items: center;background-color: white;padding-right: 0.2em;padding-left: 0.2em;position: relative;}#sk-container-id-1 div.sk-item {position: relative;z-index: 1;}#sk-container-id-1 div.sk-parallel {display: flex;align-items: stretch;justify-content: center;background-color: white;position: relative;}#sk-container-id-1 div.sk-item::before, #sk-container-id-1 div.sk-parallel-item::before {content: \"\";position: absolute;border-left: 1px solid gray;box-sizing: border-box;top: 0;bottom: 0;left: 50%;z-index: -1;}#sk-container-id-1 div.sk-parallel-item {display: flex;flex-direction: column;z-index: 1;position: relative;background-color: white;}#sk-container-id-1 div.sk-parallel-item:first-child::after {align-self: flex-end;width: 50%;}#sk-container-id-1 div.sk-parallel-item:last-child::after {align-self: flex-start;width: 50%;}#sk-container-id-1 div.sk-parallel-item:only-child::after {width: 0;}#sk-container-id-1 div.sk-dashed-wrapped {border: 1px dashed gray;margin: 0 0.4em 0.5em 0.4em;box-sizing: border-box;padding-bottom: 0.4em;background-color: white;}#sk-container-id-1 div.sk-label label {font-family: monospace;font-weight: bold;display: inline-block;line-height: 1.2em;}#sk-container-id-1 div.sk-label-container {text-align: center;}#sk-container-id-1 div.sk-container {/* jupyter's `normalize.less` sets `[hidden] { display: none; }` but bootstrap.min.css set `[hidden] { display: none !important; }` so we also need the `!important` here to be able to override the default hidden behavior on the sphinx rendered scikit-learn.org. See: https://github.com/scikit-learn/scikit-learn/issues/21755 */display: inline-block !important;position: relative;}#sk-container-id-1 div.sk-text-repr-fallback {display: none;}</style><div id=\"sk-container-id-1\" class=\"sk-top-container\"><div class=\"sk-text-repr-fallback\"><pre>ExtraTreesRegressor()</pre><b>In a Jupyter environment, please rerun this cell to show the HTML representation or trust the notebook. <br />On GitHub, the HTML representation is unable to render, please try loading this page with nbviewer.org.</b></div><div class=\"sk-container\" hidden><div class=\"sk-item\"><div class=\"sk-estimator sk-toggleable\"><input class=\"sk-toggleable__control sk-hidden--visually\" id=\"sk-estimator-id-1\" type=\"checkbox\" checked><label for=\"sk-estimator-id-1\" class=\"sk-toggleable__label sk-toggleable__label-arrow\">ExtraTreesRegressor</label><div class=\"sk-toggleable__content\"><pre>ExtraTreesRegressor()</pre></div></div></div></div></div>"
      ],
      "text/plain": [
       "ExtraTreesRegressor()"
      ]
     },
     "execution_count": 14,
     "metadata": {},
     "output_type": "execute_result"
    }
   ],
   "source": [
    "#Testing out feature importances with ExtraTrees Regressor Model\n",
    "\n",
    "regmod = ExtraTreesRegressor()\n",
    "regmod.fit(X_train,y_train)\n",
    "\n",
    "#print(regmod.feature_importances_)"
   ]
  },
  {
   "cell_type": "code",
   "execution_count": 15,
   "id": "5cb1d933",
   "metadata": {},
   "outputs": [
    {
     "data": {
      "image/png": "[encoded data removed]",
      "text/plain": [
       "<Figure size 1200x800 with 1 Axes>"
      ]
     },
     "metadata": {},
     "output_type": "display_data"
    }
   ],
   "source": [
    "plt.figure(figsize = (12,8))\n",
    "feat_importances = pd.Series(regmod.feature_importances_, index=X_train.columns)\n",
    "feat_importances.nlargest(50).plot(kind='barh')\n",
    "plt.show()"
   ]
  },
  {
   "cell_type": "markdown",
   "id": "a7334122",
   "metadata": {},
   "source": [
    "#### The above feature importances relate to the ADC data columns directly"
   ]
  },
  {
   "cell_type": "code",
   "execution_count": null,
   "id": "83c229ba",
   "metadata": {},
   "outputs": [],
   "source": []
  }
 ],
 "metadata": {
  "kernelspec": {
   "display_name": "Python 3 (ipykernel)",
   "language": "python",
   "name": "python3"
  },
  "language_info": {
   "codemirror_mode": {
    "name": "ipython",
    "version": 3
   },
   "file_extension": ".py",
   "mimetype": "text/x-python",
   "name": "python",
   "nbconvert_exporter": "python",
   "pygments_lexer": "ipython3",
   "version": "3.11.1"
  }
 },
 "nbformat": 4,
 "nbformat_minor": 5
}
