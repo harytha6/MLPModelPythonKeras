{
 "cells": [
  {
   "cell_type": "code",
   "execution_count": 38,
   "id": "54c0ee66",
   "metadata": {},
   "outputs": [],
   "source": [
    "import pandas as pd\n",
    "import numpy as np\n",
    "import os\n",
    "import matplotlib.pyplot as plt\n",
    "from statsmodels.graphics.tsaplots import plot_acf\n",
    "from statsmodels.tsa.stattools import acf\n",
    "from numpy.fft import fft, ifft\n",
    "#import tensorflow as tf\n",
    "from sklearn.model_selection import train_test_split\n",
    "from sklearn.ensemble import RandomForestRegressor, ExtraTreesRegressor\n",
    "#Components used for signal - ACF,PSD\n",
    "import scipy.signal"
   ]
  },
  {
   "cell_type": "code",
   "execution_count": 75,
   "id": "ba0b6934",
   "metadata": {},
   "outputs": [
    {
     "name": "stdout",
     "output_type": "stream",
     "text": [
      "Adding the following files : \n",
      "adc_empty112_.txt\n"
     ]
    },
    {
     "name": "stderr",
     "output_type": "stream",
     "text": [
      "C:\\Users\\Vinoth\\AppData\\Local\\Temp\\ipykernel_10308\\1321238430.py:12: FutureWarning: The frame.append method is deprecated and will be removed from pandas in a future version. Use pandas.concat instead.\n",
      "  empty  = empty.append(df1)\n"
     ]
    },
    {
     "name": "stdout",
     "output_type": "stream",
     "text": [
      "adc_empty113_.txt\n"
     ]
    },
    {
     "name": "stderr",
     "output_type": "stream",
     "text": [
      "C:\\Users\\Vinoth\\AppData\\Local\\Temp\\ipykernel_10308\\1321238430.py:12: FutureWarning: The frame.append method is deprecated and will be removed from pandas in a future version. Use pandas.concat instead.\n",
      "  empty  = empty.append(df1)\n"
     ]
    },
    {
     "name": "stdout",
     "output_type": "stream",
     "text": [
      "adc_empty114_.txt\n"
     ]
    },
    {
     "name": "stderr",
     "output_type": "stream",
     "text": [
      "C:\\Users\\Vinoth\\AppData\\Local\\Temp\\ipykernel_10308\\1321238430.py:12: FutureWarning: The frame.append method is deprecated and will be removed from pandas in a future version. Use pandas.concat instead.\n",
      "  empty  = empty.append(df1)\n"
     ]
    },
    {
     "name": "stdout",
     "output_type": "stream",
     "text": [
      "adc_empty115_.txt\n"
     ]
    },
    {
     "name": "stderr",
     "output_type": "stream",
     "text": [
      "C:\\Users\\Vinoth\\AppData\\Local\\Temp\\ipykernel_10308\\1321238430.py:12: FutureWarning: The frame.append method is deprecated and will be removed from pandas in a future version. Use pandas.concat instead.\n",
      "  empty  = empty.append(df1)\n"
     ]
    }
   ],
   "source": [
    "# Getting current working directory and storing it as a string variable and reading all empty seat readings into one dataframe\n",
    "\n",
    "directory_in_str = \"E:\\\\Haritha\\\\MasterThesis\\\\ModelTraining\\\\aa_measurements\\\\FFTfilegenerationpurpose\\\\Part7\"\n",
    "Emptyfilelist = []\n",
    "empty = pd.DataFrame()\n",
    "print(\"Adding the following files : \")\n",
    "for file in os.listdir(directory_in_str) :\n",
    "    if file.startswith(\"adc_empty\") :\n",
    "        print(file)\n",
    "        filepathempty = directory_in_str +\"\\\\\" + file\n",
    "        df1 = pd.read_csv(filepathempty, sep = '\\t', engine = 'python', header = None)\n",
    "        empty  = empty.append(df1)\n",
    "    else :\n",
    "        continue  \n",
    " \n",
    "empty[\"Label\"] = 0\n",
    "#empty.head()"
   ]
  },
  {
   "cell_type": "code",
   "execution_count": 76,
   "id": "068de882",
   "metadata": {},
   "outputs": [],
   "source": [
    "# Empty seat Data ingest\n",
    "empty.reset_index(inplace = True)\n",
    "\n",
    "#Dropping anomalies\n",
    "empty.drop(empty[empty.iloc[:,10]>=0.41].index,inplace = True)\n",
    "\n",
    "#Index given is 16, as iloc uses n-1 as the end limit for 0:16 \n",
    "empty.drop(empty.iloc[:,0:17] ,axis=1,inplace=True)\n",
    "#empty.head()\n"
   ]
  },
  {
   "cell_type": "code",
   "execution_count": 77,
   "id": "59e4450b",
   "metadata": {},
   "outputs": [
    {
     "name": "stdout",
     "output_type": "stream",
     "text": [
      "Adding the following files : \n",
      "adc_baby112_.txt\n"
     ]
    },
    {
     "name": "stderr",
     "output_type": "stream",
     "text": [
      "C:\\Users\\Vinoth\\AppData\\Local\\Temp\\ipykernel_10308\\3438902681.py:10: FutureWarning: The frame.append method is deprecated and will be removed from pandas in a future version. Use pandas.concat instead.\n",
      "  baby  = baby.append(df2)\n"
     ]
    },
    {
     "name": "stdout",
     "output_type": "stream",
     "text": [
      "adc_baby113_.txt\n"
     ]
    },
    {
     "name": "stderr",
     "output_type": "stream",
     "text": [
      "C:\\Users\\Vinoth\\AppData\\Local\\Temp\\ipykernel_10308\\3438902681.py:10: FutureWarning: The frame.append method is deprecated and will be removed from pandas in a future version. Use pandas.concat instead.\n",
      "  baby  = baby.append(df2)\n"
     ]
    },
    {
     "name": "stdout",
     "output_type": "stream",
     "text": [
      "adc_baby114_.txt\n"
     ]
    },
    {
     "name": "stderr",
     "output_type": "stream",
     "text": [
      "C:\\Users\\Vinoth\\AppData\\Local\\Temp\\ipykernel_10308\\3438902681.py:10: FutureWarning: The frame.append method is deprecated and will be removed from pandas in a future version. Use pandas.concat instead.\n",
      "  baby  = baby.append(df2)\n"
     ]
    },
    {
     "name": "stdout",
     "output_type": "stream",
     "text": [
      "adc_baby115_.txt\n"
     ]
    },
    {
     "name": "stderr",
     "output_type": "stream",
     "text": [
      "C:\\Users\\Vinoth\\AppData\\Local\\Temp\\ipykernel_10308\\3438902681.py:10: FutureWarning: The frame.append method is deprecated and will be removed from pandas in a future version. Use pandas.concat instead.\n",
      "  baby  = baby.append(df2)\n"
     ]
    }
   ],
   "source": [
    "# Reading all baby seat readings into one dataframe\n",
    "\n",
    "baby = pd.DataFrame()\n",
    "print(\"Adding the following files : \")\n",
    "for file in os.listdir(directory_in_str) :\n",
    "    if file.startswith(\"adc_baby\") :\n",
    "        print(file)\n",
    "        filepathbaby = directory_in_str +\"\\\\\" +file\n",
    "        df2 = pd.read_csv(filepathbaby, sep = '\\t', engine = 'python',header = None)\n",
    "        baby  = baby.append(df2)\n",
    "    else :\n",
    "        continue \n",
    "\n",
    "baby[\"Label\"] = 1\n",
    "#baby.head()"
   ]
  },
  {
   "cell_type": "code",
   "execution_count": 78,
   "id": "a397f268",
   "metadata": {},
   "outputs": [],
   "source": [
    "#Dropping anomalies\n",
    "baby.drop(baby[baby.iloc[:,10]>=0.41].index,inplace = True)\n",
    "baby.reset_index(inplace = True)\n",
    "\n",
    "#Index given is 16, as iloc uses n-1 as the end limit for 0:16 \n",
    "# Baby seat Data ingest and attach Label = 1\n",
    "baby.drop(baby.iloc[:,0:17] ,axis=1,inplace=True)\n",
    "\n",
    "\n",
    "#baby.head()"
   ]
  },
  {
   "cell_type": "code",
   "execution_count": 79,
   "id": "8f1295fc",
   "metadata": {},
   "outputs": [],
   "source": [
    "total = pd.concat([empty,baby],ignore_index=True)\n",
    "total.reset_index(drop=True,inplace=True)\n",
    "#total"
   ]
  },
  {
   "cell_type": "code",
   "execution_count": 80,
   "id": "e76aa8bd",
   "metadata": {},
   "outputs": [],
   "source": [
    "total[\"Mean\"]=total.iloc[:,0:16384].mean(axis=1)\n",
    "temp = total[\"Mean\"]\n",
    "#total.head()"
   ]
  },
  {
   "cell_type": "code",
   "execution_count": 81,
   "id": "bc52602c",
   "metadata": {},
   "outputs": [],
   "source": [
    "totalidxnew = total.iloc[:,0:16384]\n",
    "#totalidxnew"
   ]
  },
  {
   "cell_type": "code",
   "execution_count": 82,
   "id": "5d73ee90",
   "metadata": {},
   "outputs": [],
   "source": [
    "totalfresh = totalidxnew.sub(temp, axis=0)\n",
    "#totalfresh.head()"
   ]
  },
  {
   "cell_type": "code",
   "execution_count": 83,
   "id": "1d0771ce",
   "metadata": {},
   "outputs": [],
   "source": [
    "total2 = pd.DataFrame()\n",
    "total2 = totalfresh.iloc[:,0:16384]\n",
    "total2.reset_index(drop=True,inplace=True)\n",
    "#total2.head()"
   ]
  },
  {
   "cell_type": "code",
   "execution_count": 84,
   "id": "00df4cb3",
   "metadata": {},
   "outputs": [
    {
     "data": {
      "text/plain": [
       "2028.9697875976562"
      ]
     },
     "execution_count": 84,
     "metadata": {},
     "output_type": "execute_result"
    }
   ],
   "source": [
    "temp = total2.iloc[:,0:16384].max(axis=1)\n",
    "temp.max()"
   ]
  },
  {
   "cell_type": "code",
   "execution_count": 85,
   "id": "2acaa528",
   "metadata": {},
   "outputs": [
    {
     "name": "stderr",
     "output_type": "stream",
     "text": [
      "C:\\Users\\Vinoth\\AppData\\Local\\Temp\\ipykernel_10308\\3584131883.py:1: SettingWithCopyWarning: \n",
      "A value is trying to be set on a copy of a slice from a DataFrame.\n",
      "Try using .loc[row_indexer,col_indexer] = value instead\n",
      "\n",
      "See the caveats in the documentation: https://pandas.pydata.org/pandas-docs/stable/user_guide/indexing.html#returning-a-view-versus-a-copy\n",
      "  total2[\"Label\"] =  total[\"Label\"]\n"
     ]
    }
   ],
   "source": [
    "total2[\"Label\"] =  total[\"Label\"]\n",
    "#total2"
   ]
  },
  {
   "cell_type": "code",
   "execution_count": 86,
   "id": "ba2e7666",
   "metadata": {},
   "outputs": [],
   "source": [
    "windowtorawadcdatalength = 16384"
   ]
  },
  {
   "cell_type": "code",
   "execution_count": 87,
   "id": "7132ec5a",
   "metadata": {},
   "outputs": [],
   "source": [
    "adcwindow = np.hamming(windowtorawadcdatalength)"
   ]
  },
  {
   "cell_type": "code",
   "execution_count": 88,
   "id": "a9ce97c3",
   "metadata": {},
   "outputs": [],
   "source": [
    "windowedadcsignal = total2.iloc[:,0:16384] * adcwindow\n",
    "#plt.plot(windowedadcsignal.iloc[397,:])"
   ]
  },
  {
   "cell_type": "code",
   "execution_count": 89,
   "id": "5348d79e",
   "metadata": {},
   "outputs": [],
   "source": [
    "#plt.plot(total2.iloc[397,0:16384])"
   ]
  },
  {
   "cell_type": "code",
   "execution_count": 90,
   "id": "205e0114",
   "metadata": {},
   "outputs": [],
   "source": [
    "lengthvar = len(total2)\n",
    "#lengthvar"
   ]
  },
  {
   "cell_type": "code",
   "execution_count": 91,
   "id": "8d729b58",
   "metadata": {},
   "outputs": [],
   "source": [
    "positiveacf = pd.DataFrame(acf(windowedadcsignal.iloc[i,0:16384], nlags = 16383) \n",
    "                   for i in range(lengthvar)\n",
    "                  )\n",
    "\n",
    "#Note down the time of execution for this step"
   ]
  },
  {
   "cell_type": "code",
   "execution_count": 92,
   "id": "19117335",
   "metadata": {},
   "outputs": [],
   "source": [
    "positiveacf[\"Label\"] = total2[\"Label\"]"
   ]
  },
  {
   "cell_type": "code",
   "execution_count": 93,
   "id": "17276023",
   "metadata": {},
   "outputs": [],
   "source": [
    "#positiveacf"
   ]
  },
  {
   "cell_type": "code",
   "execution_count": 94,
   "id": "66da0d03",
   "metadata": {},
   "outputs": [],
   "source": [
    "#Reversing the dataframe to get the negative ACF portion\n",
    "negativeacf = positiveacf[positiveacf.columns[::-1]]\n",
    "\n",
    "#Deleting the last column (corresponding to lag =0) as it is already present in the positive portion of the ACF\n",
    "negativeacf = negativeacf.iloc[: , :-1]"
   ]
  },
  {
   "cell_type": "code",
   "execution_count": 95,
   "id": "2703d2c9",
   "metadata": {},
   "outputs": [],
   "source": [
    "#negativeacf"
   ]
  },
  {
   "cell_type": "code",
   "execution_count": 96,
   "id": "d1098f27",
   "metadata": {},
   "outputs": [],
   "source": [
    "wholeacfsignal = pd.concat([negativeacf, positiveacf], axis=1)\n",
    "wholeacfsignal.columns = range(wholeacfsignal.columns.size)"
   ]
  },
  {
   "cell_type": "code",
   "execution_count": 97,
   "id": "9d79d211",
   "metadata": {},
   "outputs": [
    {
     "data": {
      "text/plain": [
       "(1600, 32767)"
      ]
     },
     "execution_count": 97,
     "metadata": {},
     "output_type": "execute_result"
    }
   ],
   "source": [
    "wholeacfsignal.iloc[:,1:32768].shape"
   ]
  },
  {
   "cell_type": "code",
   "execution_count": 98,
   "id": "70f5fe58",
   "metadata": {},
   "outputs": [],
   "source": [
    "#plt.plot(wholeacfsignal.iloc[0,1:32768])"
   ]
  },
  {
   "cell_type": "code",
   "execution_count": 99,
   "id": "8a31386d",
   "metadata": {},
   "outputs": [],
   "source": [
    "X_fft = np.fft.fft(wholeacfsignal.iloc[:,1:32768])\n",
    "N = 32768\n",
    "X_fftmagpsd = np.abs(X_fft)/N\n",
    "\n",
    "#Storing the above numpy array as a dataframe\n",
    "X_fftpsd = pd.DataFrame(X_fftmagpsd)"
   ]
  },
  {
   "cell_type": "code",
   "execution_count": 100,
   "id": "5af9cf09",
   "metadata": {},
   "outputs": [],
   "source": [
    "X_fftpsd = X_fftpsd.iloc[:,600:1000]\n",
    "#X_fftpsd"
   ]
  },
  {
   "cell_type": "code",
   "execution_count": 101,
   "id": "359211ad",
   "metadata": {},
   "outputs": [],
   "source": [
    "X_fftpsd[\"Label\"] = total2[\"Label\"]\n",
    "#X_fftpsd"
   ]
  },
  {
   "cell_type": "code",
   "execution_count": 102,
   "id": "3609da2d",
   "metadata": {},
   "outputs": [],
   "source": [
    "X_fftpsd.to_csv('PSDfromWindowedADC-Part7.csv', encoding='utf-8',index=False)"
   ]
  },
  {
   "cell_type": "code",
   "execution_count": 124,
   "id": "2a89bea5",
   "metadata": {},
   "outputs": [
    {
     "data": {
      "text/plain": [
       "(16383,)"
      ]
     },
     "execution_count": 124,
     "metadata": {},
     "output_type": "execute_result"
    }
   ],
   "source": [
    "#Sampling frequency\n",
    "Fs = 1953125\n",
    "#Number of samples\n",
    "N = 32767\n",
    "\n",
    "#Spectrum only plotted for half of spectrum, thus N/2\n",
    "f1 = np.linspace(0, 16383*(Fs/N), int(N/2))\n",
    "f2 = np.linspace(0,8192*(Fs/(N/2)), int(N/4))\n",
    "\n",
    "#f = f.reshape((1, -1)) \n",
    "f.shape"
   ]
  }
 ],
 "metadata": {
  "kernelspec": {
   "display_name": "Python 3 (ipykernel)",
   "language": "python",
   "name": "python3"
  },
  "language_info": {
   "codemirror_mode": {
    "name": "ipython",
    "version": 3
   },
   "file_extension": ".py",
   "mimetype": "text/x-python",
   "name": "python",
   "nbconvert_exporter": "python",
   "pygments_lexer": "ipython3",
   "version": "3.11.1"
  }
 },
 "nbformat": 4,
 "nbformat_minor": 5
}
